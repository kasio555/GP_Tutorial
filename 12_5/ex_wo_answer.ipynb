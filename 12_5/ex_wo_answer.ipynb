{
 "cells": [
  {
   "cell_type": "markdown",
   "metadata": {},
   "source": [
    "## DEAP: Genetic Algorithm and Genetic Programming Tutorial"
   ]
  },
  {
   "cell_type": "code",
   "execution_count": null,
   "metadata": {},
   "outputs": [],
   "source": [
    "%pip install deap "
   ]
  },
  {
   "cell_type": "code",
   "execution_count": null,
   "metadata": {},
   "outputs": [],
   "source": [
    "import random\n",
    "import numpy as np"
   ]
  },
  {
   "cell_type": "code",
   "execution_count": null,
   "metadata": {},
   "outputs": [],
   "source": [
    "from deap import base, creator, tools, algorithms"
   ]
  },
  {
   "cell_type": "markdown",
   "metadata": {},
   "source": [
    "### Simple Genetic Algorithm\n",
    "\n",
    "<b>Overall flow of a *Genetic Algorithm*:</b>\n",
    "\n",
    "    1) Population Initialisation \n",
    "    2) Fitness computation\n",
    "    3) Evolution (crossover and mutation) \n",
    "    4) Next population selection (include fitness computation)\n",
    "    5) Termination check \n",
    "        5-1) yes: Done. Return the best solution found so far \n",
    "        5-2) no: go to 3)  "
   ]
  },
  {
   "cell_type": "markdown",
   "metadata": {},
   "source": [
    "<b>Four main steps of DEAP</b>: \n",
    "\n",
    "    1) Type Definition, \n",
    "    2) Initialisation, \n",
    "    3) Operator defintion & register, \n",
    "    4) Algorithm "
   ]
  },
  {
   "cell_type": "markdown",
   "metadata": {},
   "source": [
    "#### Examples: one-max problem \n",
    "\n",
    "Evolve until obtaining an individual with all 1s. "
   ]
  },
  {
   "cell_type": "markdown",
   "metadata": {},
   "source": [
    "<b>1) Type defintion </b>"
   ]
  },
  {
   "cell_type": "code",
   "execution_count": null,
   "metadata": {},
   "outputs": [],
   "source": [
    "# define the individual type for one-max problem \n",
    "creator.create(\"FitnessMax\", base.Fitness, weights = (1.0,))\n",
    "creator.create(\"OneMaxIndividual\", list, fitness = creator.FitnessMax)"
   ]
  },
  {
   "cell_type": "code",
   "execution_count": null,
   "metadata": {},
   "outputs": [],
   "source": [
    "# .."
   ]
  },
  {
   "cell_type": "markdown",
   "metadata": {},
   "source": [
    "<b>2) Initialisation </b>"
   ]
  },
  {
   "cell_type": "code",
   "execution_count": null,
   "metadata": {},
   "outputs": [],
   "source": [
    "ind_size = 100\n",
    "pop_size = 50\n",
    "\n",
    "toolbox = base.Toolbox() # a contaner for tools of all sorts including initialiser \n",
    "# define intialisers and register them into toolbox\n",
    "toolbox.register(\"attribute\", random.randint, 0, 1)\n",
    "toolbox.register(\"individual\", tools.initRepeat, creator.OneMaxIndividual, toolbox.attribute, n = ind_size)\n",
    "toolbox.register(\"population\", tools.initRepeat, list, toolbox.individual, n = pop_size)\n"
   ]
  },
  {
   "cell_type": "markdown",
   "metadata": {},
   "source": [
    "<b>3) Operator defintion & register </b>"
   ]
  },
  {
   "cell_type": "code",
   "execution_count": null,
   "metadata": {},
   "outputs": [],
   "source": [
    "# all operators that will be used during GA including the evolution operators \n",
    "def count_one(ind): # ~= fitness computation \n",
    "    return (np.sum(ind),)\n",
    "\n",
    "toolbox.register(\"evaluate\", count_one) # can pass the data here\n",
    "toolbox.register(\"mate\", tools.cxOnePoint) \n",
    "toolbox.register(\"mutate\", tools.mutFlipBit, indpb = 1/ind_size) \n",
    "toolbox.register(\"select\", tools.selTournament, tournsize = 3, fit_attr = \"fitness\") # fit_tarr = the name of the attribute to use, "
   ]
  },
  {
   "cell_type": "code",
   "execution_count": null,
   "metadata": {},
   "outputs": [],
   "source": [
    "# checking \n",
    "toolbox.evaluate"
   ]
  },
  {
   "cell_type": "markdown",
   "metadata": {},
   "source": [
    "<b>4) Algorithm </b>"
   ]
  },
  {
   "cell_type": "code",
   "execution_count": null,
   "metadata": {},
   "outputs": [],
   "source": [
    "n_gen = 50\n",
    "cxRate = 1.0\n",
    "mutRate = 0.2"
   ]
  },
  {
   "cell_type": "code",
   "execution_count": null,
   "metadata": {},
   "outputs": [],
   "source": [
    "## 1) population initialisation \n",
    "pop = toolbox.population() # n = new_pop_size"
   ]
  },
  {
   "cell_type": "code",
   "execution_count": null,
   "metadata": {},
   "outputs": [],
   "source": [
    "pop[0].fitness.values, pop[0].fitness.valid # none assigned"
   ]
  },
  {
   "cell_type": "code",
   "execution_count": null,
   "metadata": {},
   "outputs": [],
   "source": [
    "## 2) fitness evaluation \n",
    "fitness_per_ind = toolbox.map(toolbox.evaluate, pop)\n",
    "for ind,fit_v in zip(pop, fitness_per_ind):\n",
    "    ind.fitness.values = fit_v"
   ]
  },
  {
   "cell_type": "code",
   "execution_count": null,
   "metadata": {},
   "outputs": [],
   "source": [
    "## 2-2) select the best individual & store\n",
    "best = tools.HallOfFame(1) # similar = ... # define for duplicate check \n",
    "print (best)\n",
    "best.update(pop)\n",
    "print (best[0])"
   ]
  },
  {
   "cell_type": "code",
   "execution_count": null,
   "metadata": {},
   "outputs": [],
   "source": [
    "## logging ##\n",
    "stats = tools.Statistics(lambda ind:ind.fitness.values[0])\n",
    "stats.register(\"max\", np.max, axis = 0)\n",
    "stats.register(\"min\", np.min, axis = 0)\n",
    "stats.register(\"average\", np.mean, axis = 0)"
   ]
  },
  {
   "cell_type": "code",
   "execution_count": null,
   "metadata": {},
   "outputs": [],
   "source": [
    "stat_results = stats.compile(pop)\n",
    "print (stat_results)"
   ]
  },
  {
   "cell_type": "code",
   "execution_count": null,
   "metadata": {},
   "outputs": [],
   "source": [
    "logbook = tools.Logbook()\n",
    "logbook.record(\n",
    "    gen = 0, \n",
    "    max = stat_results['max'],\n",
    "    min = stat_results['min'],\n",
    "    mean = stat_results['average'],\n",
    ")\n",
    "print (logbook)"
   ]
  },
  {
   "cell_type": "code",
   "execution_count": null,
   "metadata": {},
   "outputs": [],
   "source": [
    "## 3) evolution & 4) next population selection \n",
    "from tqdm import tqdm \n",
    "allow_dup = False #True\n",
    "for gen_idx in tqdm(range(1, n_gen + 1)):\n",
    "    # 3) evoluation \n",
    "    offsprings = []\n",
    "    pop_copied = [toolbox.clone(ind) for ind in pop]\n",
    "    while len(offsprings) < pop_size:\n",
    "        offspring = toolbox.select(pop_copied, 2)\n",
    "        ## crossover\n",
    "        if random.random() < cxRate:\n",
    "            offspring[0], offspring[1] = toolbox.mate(offspring[0], offspring[1])\n",
    "            del offspring[0].fitness.values, offspring[1].fitness.values\n",
    "        # muate \n",
    "        if random.random() < mutRate:\n",
    "            offspring[0], = toolbox.mutate(offspring[0])\n",
    "            del offspring[0].fitness.values\n",
    "        if random.random() < mutRate:\n",
    "            offspring[1], = toolbox.mutate(offspring[1])\n",
    "            del offspring[1].fitness.values\n",
    "        ind1, ind2 = offspring\n",
    "        #ind1, ind2 = algorithms.varAnd(offspring, toolbox, cxRate, mutRate) \n",
    "        \n",
    "        # check duplicate & include \n",
    "        if len(offsprings) == 0 or allow_dup:\n",
    "            offsprings.extend([ind1, ind2])\n",
    "        else:\n",
    "            incl = True \n",
    "            for _ind in offsprings:\n",
    "                if str(_ind).__eq__(str(ind1)): incl = False; break \n",
    "            if incl: \n",
    "                offsprings.append(ind1)\n",
    "            incl = True \n",
    "            for _ind in offsprings:\n",
    "                if str(_ind).__eq__(str(ind2)): incl = False; break \n",
    "            if incl: \n",
    "                offsprings.append(ind2) \n",
    "    \n",
    "    # 4) next population selection \n",
    "    ind_fit_inv = [ind for ind in offsprings if not ind.fitness.valid]\n",
    "    fitness_per_ind = toolbox.map(toolbox.evaluate, ind_fit_inv)\n",
    "    for ind, fit_v in zip(ind_fit_inv, fitness_per_ind):\n",
    "        ind.fitness.values = fit_v \n",
    "    ## 4-2) the next population selection \n",
    "    pop[:] = tools.selBest(pop + offsprings, pop_size)\n",
    "    # update best\n",
    "    best.update(pop)\n",
    "\n",
    "    # logbox \n",
    "    stat_results = stats.compile(pop)\n",
    "    max_v, min_v, avg_v = stat_results['max'], stat_results['min'], stat_results['average']\n",
    "    logbook.record(gen = gen_idx, max = max_v, min = min_v, mean = avg_v)\n",
    "    #print (logbook)\n",
    "    # some termination condition: the number of unchanged cases \n",
    "    if toolbox.evaluate(best[0])[0] == ind_size:\n",
    "        print (f\"At Gen {gen_idx}, the optimal found\")\n",
    "        break \n",
    "\n",
    "print (logbook)\n",
    "print (\"\\n\")\n",
    "print (best[0])"
   ]
  },
  {
   "cell_type": "code",
   "execution_count": null,
   "metadata": {},
   "outputs": [],
   "source": [
    "# visulation \n",
    "import matplotlib.pyplot as plt \n",
    "fig = plt.figure(figsize = (8,6))\n",
    "ax = fig.add_subplot(111)\n",
    "\n",
    "gen_vs, min_vs, max_vs, mean_vs = logbook.select(\"gen\", \"min\", \"max\", 'mean')\n",
    "ax.plot(gen_vs, min_vs, c = 'r', label = 'min')\n",
    "ax.plot(gen_vs, max_vs, c = 'b', label = 'max')\n",
    "ax.plot(gen_vs, mean_vs, c = 'g', label = 'mean')\n",
    "\n",
    "ax.grid()\n",
    "plt.legend()\n",
    "plt.show()"
   ]
  },
  {
   "cell_type": "markdown",
   "metadata": {},
   "source": [
    "#### Using pre-implemented evolutionary algorithms"
   ]
  },
  {
   "cell_type": "code",
   "execution_count": null,
   "metadata": {},
   "outputs": [],
   "source": [
    "pop = toolbox.population(n = pop_size)\n",
    "algorithms.eaSimple(pop, toolbox, cxRate, mutRate, ngen=n_gen, stats = stats, verbose= False)\n",
    "best_found = tools.selBest(pop, 1)\n",
    "print (best_found, np.sum(best_found))"
   ]
  },
  {
   "cell_type": "markdown",
   "metadata": {},
   "source": [
    "#### Exercises"
   ]
  },
  {
   "cell_type": "markdown",
   "metadata": {},
   "source": [
    "<b>Traveling Salesman Problem</b>\n",
    "\n",
    "* Individual: a candidate city visiting order\n",
    "* Fitness: minmise the total distance when visiting the cities sequentially as indicated in the individual\n",
    "* crossover: \n",
    "    - tools.cxOrderd \n",
    "* mutation: shuffligng \n",
    "    - tools.mutShuffleIndexs, indpb = 1/n_cities \n",
    "* parent selection:\n",
    "    - tools.selTournament, tournsize = 3\n",
    "* next population selection: select the top pop_size best individuals \n",
    "    - tools.selBest "
   ]
  },
  {
   "cell_type": "code",
   "execution_count": null,
   "metadata": {},
   "outputs": [],
   "source": [
    "pop_size = 100\n",
    "n_cities = 10"
   ]
  },
  {
   "cell_type": "code",
   "execution_count": null,
   "metadata": {},
   "outputs": [],
   "source": [
    "# provided\n",
    "from itertools import combinations\n",
    "edges = list(combinations(np.arange(n_cities), 2))\n",
    "dist_btwn_cities = {}\n",
    "for c1,c2 in edges:\n",
    "    dist = np.random.rand()\n",
    "    dist_btwn_cities[(c1,c2)] = dist \n",
    "    dist_btwn_cities[(c2,c1)] = dist "
   ]
  },
  {
   "cell_type": "code",
   "execution_count": null,
   "metadata": {},
   "outputs": [],
   "source": [
    "# define types \n",
    "...\n",
    "\n",
    "# initialisation  \n",
    "# np.random.permutation with n_cities \n",
    "...\n",
    "\n",
    "# operator \n",
    "# evaluate, mate (crossover), mutate, selction "
   ]
  },
  {
   "cell_type": "code",
   "execution_count": null,
   "metadata": {},
   "outputs": [],
   "source": [
    "n_gen = 50\n",
    "cxRate = 1.0 \n",
    "mutRate = 0.2 \n",
    "\n",
    "# algorithm \n",
    "# 1) population initialisation \n",
    "pop = ... \n",
    "# 2) fitness evaluation \n",
    "...\n",
    "\n",
    "# 2-2) select the best individual & store (e.g., HallofFame)\n",
    "...\n",
    "\n",
    "# logging (choice)\n",
    "#stats = tools.Statistics(lambda ind: ind.fitness.values[0])\n",
    "#stats.register(\"max\", np.max, axis = 0)\n",
    "#stats.register(\"min\", np.min, axis = 0)\n",
    "#stats.register(\"mean\", np.mean, axis = 0)\n",
    "#stat_results = stats.compile(pop)\n",
    "#logbook = tools.Logbook()\n",
    "#logbook.record(gen = 0, max = stat_results['max'], min = stat_results['min'], mean = stat_results['mean'])\n",
    "\n",
    "## 3) evolution & 4) next population selection\n",
    "for gen_idx in range(1, n_gen+1):\n",
    "    # 3) evolution => can use varAnd or implement own building block \n",
    "    # crossover, mutate \n",
    "    ...\n",
    "\n",
    "    # 4) next population selection \n",
    "    ## 4-1) fitness computation for new offsrpings \n",
    "    ...\n",
    "\n",
    "    ## 4-2) the next population selection \n",
    "    ...\n",
    "\n",
    "    # update the best solution (HallOfFame)\n",
    "    ...\n",
    "    # stat_results = stats.compile(pop) # choice\n",
    "    #logbook.record(gen = gen_idx, max = stat_results['max'], min = stat_results['min'], mean = stat_results['mean'])\n",
    "    #print (f\"\\tGen {gen_idx}, best: {best[0]}, fitness: {best[0].fitness.values[0]}\") \n",
    "    #print (logbook)"
   ]
  },
  {
   "cell_type": "markdown",
   "metadata": {},
   "source": [
    "### Simple Genetic Programming"
   ]
  },
  {
   "cell_type": "code",
   "execution_count": null,
   "metadata": {},
   "outputs": [],
   "source": [
    "from deap import gp "
   ]
  },
  {
   "cell_type": "markdown",
   "metadata": {},
   "source": [
    "#### Examples: symbolic regression \n",
    "\n",
    "Automatically generate (or search) a model/experssion that best-fits a given dataset\n",
    "\n",
    "* target: $f(x) = x^4 + x^3 + x^2 + x$\n",
    "* dataset: $x = -1.0 ~ 1.0$ with step 0.05, $y = \\{f(x)| \\in x\\}$"
   ]
  },
  {
   "cell_type": "code",
   "execution_count": null,
   "metadata": {},
   "outputs": [],
   "source": [
    "x = np.arange(-1, 1, 0.05)\n",
    "def formula(x): return x**4 + x**3 + x**2 + x \n",
    "y = list(map(formula, x))"
   ]
  },
  {
   "cell_type": "code",
   "execution_count": null,
   "metadata": {},
   "outputs": [],
   "source": [
    "import matplotlib.pyplot as plt \n",
    "fig = plt.figure(figsize = (4,3))\n",
    "ax = fig.add_subplot(111)\n",
    "ax.plot(x, y, 'bo-', markersize = 3, linewidth = 1)\n",
    "plt.show()"
   ]
  },
  {
   "cell_type": "markdown",
   "metadata": {},
   "source": [
    "<b>0) Primitive definition </b>"
   ]
  },
  {
   "cell_type": "code",
   "execution_count": null,
   "metadata": {},
   "outputs": [],
   "source": [
    "# define primtives\n",
    "arity_main = 1 # only x\n",
    "pset = gp.PrimitiveSet('main', 1) # contain a set of primitives to be used\n",
    "pset.addPrimitive(np.add, 2, name = \"add\") # operator, arity = the number of operands, name \n",
    "pset.addPrimitive(np.multiply, 2, name = \"multiply\")\n",
    "pset.addPrimitive(np.subtract, 2, name = \"substract\")\n",
    "pset.addPrimitive(np.negative, 1, name = \"neg\")\n",
    "pset.renameArguments(ARG0 = \"x\")\n",
    "#pset.addTerminal(1)"
   ]
  },
  {
   "cell_type": "markdown",
   "metadata": {},
   "source": [
    "<b>1) Type defintion </b>"
   ]
  },
  {
   "cell_type": "code",
   "execution_count": null,
   "metadata": {},
   "outputs": [],
   "source": [
    "creator.create(\"SRFitnessMin\", base.Fitness, weights = (-1.0,))\n",
    "creator.create(\"SRIndividual\", gp.PrimitiveTree, fitness = creator.SRFitnessMin, pset = pset)"
   ]
  },
  {
   "cell_type": "markdown",
   "metadata": {},
   "source": [
    "<b>2) Initialisation </b>"
   ]
  },
  {
   "cell_type": "code",
   "execution_count": null,
   "metadata": {},
   "outputs": [],
   "source": [
    "min_depth = 0\n",
    "init_max_depth = 3 \n",
    "pop_size = 50\n",
    "\n",
    "sr_toolbox = base.Toolbox()\n",
    "# gp.genFull, gp.genHalfAndHalf, gp.genGrow\n",
    "sr_toolbox.register(\"expr\", gp.genFull, pset = pset, min_ = min_depth, max_ = init_max_depth)\n",
    "sr_toolbox.register(\"individual\", tools.initIterate, creator.SRIndividual, sr_toolbox.expr)\n",
    "sr_toolbox.register(\"population\", tools.initRepeat, list, sr_toolbox.individual, n = pop_size)"
   ]
  },
  {
   "cell_type": "markdown",
   "metadata": {},
   "source": [
    "<b>3) Operator defintion & register </b>"
   ]
  },
  {
   "cell_type": "code",
   "execution_count": null,
   "metadata": {},
   "outputs": [],
   "source": [
    "def eval_expr(expr, x, y, pset):\n",
    "    from sklearn.metrics import mean_squared_error\n",
    "    # Y = the ground truth \n",
    "    comp_y = gp.compile(expr, pset)(x)\n",
    "    mse = mean_squared_error(y, comp_y, squared=False)\n",
    "    return (mse,)  \n",
    "\n",
    "sr_toolbox.register(\"evaluate\", eval_expr, x = x, y = y, pset = pset)\n",
    "sr_toolbox.register(\"mate\", gp.cxOnePoint)\n",
    "sr_toolbox.register(\"mutate\", gp.mutUniform, expr = sr_toolbox.expr, pset = pset)\n",
    "sr_toolbox.register(\"select\", tools.selTournament, tournsize = 3)"
   ]
  },
  {
   "cell_type": "code",
   "execution_count": null,
   "metadata": {},
   "outputs": [],
   "source": [
    "# limit\n",
    "import operator \n",
    "max_tree_depth = 20\n",
    "sr_toolbox.decorate(\"mate\", \n",
    "    gp.staticLimit(\n",
    "        key = operator.attrgetter(\"height\"), \n",
    "        max_value = max_tree_depth\n",
    "    )\n",
    ")\n",
    "\n",
    "sr_toolbox.decorate(\"mutaet\", \n",
    "    gp.staticLimit(\n",
    "        key = operator.attrgetter(\"height\"), \n",
    "        max_value = max_tree_depth\n",
    "    )\n",
    ")"
   ]
  },
  {
   "cell_type": "markdown",
   "metadata": {},
   "source": [
    "<b>4) Algorithm </b>"
   ]
  },
  {
   "cell_type": "code",
   "execution_count": null,
   "metadata": {},
   "outputs": [],
   "source": [
    "n_gen = 20\n",
    "cxRate = 1.0\n",
    "mutRate = 0.2"
   ]
  },
  {
   "cell_type": "code",
   "execution_count": null,
   "metadata": {},
   "outputs": [],
   "source": [
    "# 1) population initialisaiton \n",
    "pop = sr_toolbox.population(n = pop_size)"
   ]
  },
  {
   "cell_type": "code",
   "execution_count": null,
   "metadata": {},
   "outputs": [],
   "source": [
    "# 2) fitness evaluation \n",
    "fitness_per_ind = sr_toolbox.map(sr_toolbox.evaluate, pop) \n",
    "for ind,fit_v in zip(pop, fitness_per_ind):\n",
    "    ind.fitness.values = fit_v "
   ]
  },
  {
   "cell_type": "code",
   "execution_count": null,
   "metadata": {},
   "outputs": [],
   "source": [
    "# 2-2) select the best individual & store\n",
    "best = tools.HallOfFame(1)\n",
    "best.update(pop)\n",
    "print (best[0], best[0].fitness.values)"
   ]
  },
  {
   "cell_type": "code",
   "execution_count": null,
   "metadata": {},
   "outputs": [],
   "source": [
    "# logging \n",
    "stats = tools.Statistics(lambda ind:ind.fitness.values[0])\n",
    "stats.register(\"max\", np.max, axis = 0)\n",
    "stats.register(\"min\", np.min, axis = 0)\n",
    "stats.register(\"mean\",np.mean, axis = 0)\n",
    "stat_results = stats.compile(pop)\n",
    "logbook = tools.Logbook()\n",
    "logbook.record(gen = 0, min = stat_results['min'], max = stat_results['max'], mean = stat_results['mean'])\n",
    "print (logbook)"
   ]
  },
  {
   "cell_type": "code",
   "execution_count": null,
   "metadata": {},
   "outputs": [],
   "source": [
    "# 3) evolution & 4) next population selection \n",
    "for gen_idx in range(1, n_gen + 1):\n",
    "    # 3) evolution\n",
    "    offsprings = []\n",
    "    pop_copied = [sr_toolbox.clone(ind) for ind in pop]\n",
    "    while len(offsprings) < pop_size:\n",
    "        offspring = sr_toolbox.select(pop_copied, 2)\n",
    "        ind1, ind2 = algorithms.varAnd(offspring, sr_toolbox, cxRate, mutRate)\n",
    "        offsprings.extend([ind1, ind2])\n",
    "    \n",
    "    ind_fit_inv = [ind for ind in offsprings if not ind.fitness.valid]\n",
    "    fitness_per_ind = sr_toolbox.map(sr_toolbox.evaluate, ind_fit_inv)\n",
    "    for ind, fit_v in zip(ind_fit_inv, fitness_per_ind):\n",
    "        ind.fitness.values = fit_v \n",
    "    \n",
    "    # 4) next popluation selection \n",
    "    pop[:] = tools.selBest(pop + offsprings, pop_size)\n",
    "    \n",
    "    # update the best\n",
    "    best.update(pop)\n",
    "\n",
    "    # logging\n",
    "    stat_results = stats.compile(pop)\n",
    "    logbook.record(gen = gen_idx, \n",
    "        min = stat_results['min'], max = stat_results['max'], mean = stat_results['mean']\n",
    "    )\n",
    "    print (logbook)\n",
    "    print (f\"\\tGen {gen_idx}:\\n\\t\\tbest:{str(best[0])}\\n\\t\\tfitness:{best[0].fitness.values[0]}\")"
   ]
  },
  {
   "cell_type": "code",
   "execution_count": null,
   "metadata": {},
   "outputs": [],
   "source": [
    "str(best[0])"
   ]
  },
  {
   "cell_type": "code",
   "execution_count": null,
   "metadata": {},
   "outputs": [],
   "source": [
    "y_computed = gp.compile(best[0], pset=pset)(x)\n",
    "\n",
    "import matplotlib.pyplot as plt \n",
    "fig = plt.figure(figsize = (8,6))\n",
    "ax = fig.add_subplot(111)\n",
    "ax.plot(x, y, 'bo-', markersize = 3, linewidth = 1)\n",
    "ax.plot(x, y_computed, 'ro-', markersize = 3, linewidth = 1)\n",
    "ax.plot(x, y - y_computed, 'go-', markersize = 3, linewidth = 1)\n",
    "plt.show()"
   ]
  },
  {
   "cell_type": "code",
   "execution_count": null,
   "metadata": {},
   "outputs": [],
   "source": [
    "#out = algorithms.eaSimple(pop, sr_toolbox, cxpb=0.5, mutpb=0.2, ngen=40, verbose=False)"
   ]
  },
  {
   "cell_type": "markdown",
   "metadata": {},
   "source": [
    "#### Exercises"
   ]
  },
  {
   "cell_type": "markdown",
   "metadata": {},
   "source": [
    "<b>Even Parity Generator</b>\n",
    "\n",
    "* Individual: a candidate expression/generator \n",
    "* Fitness: \n",
    "    - Maximise the number of correctly computed even parity bits \n",
    "    - Or Minimise the number of wrongly computed even parity bits\n",
    "* crossover: a single point crossover \n",
    "    - gp.cxOnepoint \n",
    "* mutation: \n",
    "    - gp.mutUniform\n",
    "* parent selection\n",
    "    - tools.selTournament, tournsize = 3\n",
    "* next population selection: select the top pop_size best individuals \n",
    "    - tools.selBest \n",
    "* primitives:\n",
    "    - operator.and_, operator.or_, operator.xor, operator.not_\n",
    "* terminals:\n",
    "    - 1 and 0 "
   ]
  },
  {
   "cell_type": "code",
   "execution_count": null,
   "metadata": {},
   "outputs": [],
   "source": [
    "import operator "
   ]
  },
  {
   "cell_type": "code",
   "execution_count": null,
   "metadata": {},
   "outputs": [],
   "source": [
    "pop_size = 100 \n",
    "seq_size = 6\n",
    "n_parity = 2**seq_size"
   ]
  },
  {
   "cell_type": "code",
   "execution_count": null,
   "metadata": {},
   "outputs": [],
   "source": [
    "# provided\n",
    "# dataset\n",
    "data_seqs = []\n",
    "parity_bits =[]\n",
    "for i in range(n_parity):\n",
    "    data_seqs.append([])\n",
    "    v = i \n",
    "    parity = 0 \n",
    "    dividor = n_parity\n",
    "    for j in range(seq_size):\n",
    "        dividor /= 2\n",
    "        if v >= dividor:\n",
    "            data_seqs[-1].append(1)\n",
    "            parity = int(not parity)\n",
    "            v -= dividor \n",
    "        else:\n",
    "            data_seqs[-1].append(0)\n",
    "    parity_bits.append(parity)"
   ]
  },
  {
   "cell_type": "code",
   "execution_count": null,
   "metadata": {},
   "outputs": [],
   "source": [
    "import operator \n",
    "\n",
    "# define a primtive set\n",
    "pset = ... # name = \"main\" \n",
    "#perator.and_, operator.or_, operator.xor, operator.not_\n",
    "...\n",
    "\n",
    "# define types \n",
    "# e.g., EPFitnessMax, EPIndividual\n",
    "\n",
    "# initialisation \n",
    "min_depth = 3\n",
    "init_max_depth = 5\n",
    "# e.g., expr => a tree generator/initialiser, individual, population \n",
    "...\n",
    "\n",
    "# operators\n",
    "def eval_generator(expr, x, y, pset):\n",
    "    ...\n",
    "\n",
    "# evaluate, mate (crossover), mutate, select \n",
    "\n",
    "n_gen = 50\n",
    "cxRate = 0.5\n",
    "mutRate = 0.2\n",
    "\n",
    "# 1) population initialisaiton \n",
    "...\n",
    "# 2) fitness evaluation \n",
    "...\n",
    "# 2-2) select the best individual & store\n",
    "...\n",
    "\n",
    "# logging \n",
    "#stats = tools.Statistics(lambda ind:ind.fitness.values[0])\n",
    "#stats.register(\"max\", np.max, axis = 0)\n",
    "#stats.register(\"min\", np.min, axis = 0)\n",
    "#stats.register(\"mean\",np.mean, axis = 0)\n",
    "#stat_results = stats.compile(pop)\n",
    "#logbook = tools.Logbook()\n",
    "#logbook.record(\n",
    "    #gen = 0, min = stat_results['min'], max = stat_results['max'], mean = stat_results['mean'])\n",
    "#print (logbook)\n",
    "\n",
    "# 3) evolution & 4) next population selection \n",
    "for gen_idx in range(1, n_gen + 1):\n",
    "    # 3) evolution\n",
    "    ...\n",
    "    \n",
    "    # 4) next population selection & fitness computation for new offsrpings \n",
    "    # fitness computation for offsrpings\n",
    "    ...\n",
    "    \n",
    "    # the next population selection \n",
    "    ...\n",
    "    # update the best for next pop \n",
    "    ...\n",
    "\n",
    "    # logging\n",
    "    #stat_results = stats.compile(pop)\n",
    "    #logbook.record(gen = gen_idx, \n",
    "        #min = stat_results['min'], max = stat_results['max'], mean = stat_results['mean']\n",
    "    #)\n",
    "    #print (logbook)\n",
    "    #print (f\"\\tGen {gen_idx}:\\n\\t\\tbest:{str(best[0])}\\n\\t\\tfitness:{best[0].fitness.values[0]}\")"
   ]
  }
 ],
 "metadata": {
  "kernelspec": {
   "display_name": "Python 3.9.14 64-bit",
   "language": "python",
   "name": "python3"
  },
  "language_info": {
   "codemirror_mode": {
    "name": "ipython",
    "version": 3
   },
   "file_extension": ".py",
   "mimetype": "text/x-python",
   "name": "python",
   "nbconvert_exporter": "python",
   "pygments_lexer": "ipython3",
   "version": "3.9.15"
  },
  "orig_nbformat": 4,
  "vscode": {
   "interpreter": {
    "hash": "397704579725e15f5c7cb49fe5f0341eb7531c82d19f2c29d197e8b64ab5776b"
   }
  }
 },
 "nbformat": 4,
 "nbformat_minor": 2
}
